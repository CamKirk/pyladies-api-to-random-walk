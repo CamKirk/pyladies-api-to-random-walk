{
 "cells": [
  {
   "cell_type": "markdown",
   "metadata": {},
   "source": [
    "Data Imports"
   ]
  },
  {
   "cell_type": "code",
   "execution_count": 108,
   "metadata": {},
   "outputs": [],
   "source": [
    "from libs import data\n",
    "import numpy as np\n",
    "import matplotlib.pyplot as plt\n",
    "import math"
   ]
  },
  {
   "cell_type": "markdown",
   "metadata": {},
   "source": [
    "Use the user-defined get_data function to acquire data from the quandl API. "
   ]
  },
  {
   "cell_type": "code",
   "execution_count": 109,
   "metadata": {},
   "outputs": [
    {
     "data": {
      "text/html": [
       "<div>\n",
       "<style scoped>\n",
       "    .dataframe tbody tr th:only-of-type {\n",
       "        vertical-align: middle;\n",
       "    }\n",
       "\n",
       "    .dataframe tbody tr th {\n",
       "        vertical-align: top;\n",
       "    }\n",
       "\n",
       "    .dataframe thead th {\n",
       "        text-align: right;\n",
       "    }\n",
       "</style>\n",
       "<table border=\"1\" class=\"dataframe\">\n",
       "  <thead>\n",
       "    <tr style=\"text-align: right;\">\n",
       "      <th></th>\n",
       "      <th>Date</th>\n",
       "      <th>Open</th>\n",
       "      <th>High</th>\n",
       "      <th>Low</th>\n",
       "      <th>Close</th>\n",
       "      <th>Volume</th>\n",
       "      <th>Ex-Dividend</th>\n",
       "      <th>Split Ratio</th>\n",
       "      <th>Adj. Open</th>\n",
       "      <th>Adj. High</th>\n",
       "      <th>Adj. Low</th>\n",
       "      <th>Adj. Close</th>\n",
       "      <th>Adj. Volume</th>\n",
       "    </tr>\n",
       "  </thead>\n",
       "  <tbody>\n",
       "    <tr>\n",
       "      <th>0</th>\n",
       "      <td>2018-03-27</td>\n",
       "      <td>4.97</td>\n",
       "      <td>5.58</td>\n",
       "      <td>4.950</td>\n",
       "      <td>5.08</td>\n",
       "      <td>4005636.0</td>\n",
       "      <td>0.0</td>\n",
       "      <td>1.0</td>\n",
       "      <td>4.97</td>\n",
       "      <td>5.58</td>\n",
       "      <td>4.950</td>\n",
       "      <td>5.08</td>\n",
       "      <td>4005636.0</td>\n",
       "    </tr>\n",
       "    <tr>\n",
       "      <th>1</th>\n",
       "      <td>2018-03-26</td>\n",
       "      <td>4.95</td>\n",
       "      <td>4.97</td>\n",
       "      <td>4.620</td>\n",
       "      <td>4.92</td>\n",
       "      <td>1891721.0</td>\n",
       "      <td>0.0</td>\n",
       "      <td>1.0</td>\n",
       "      <td>4.95</td>\n",
       "      <td>4.97</td>\n",
       "      <td>4.620</td>\n",
       "      <td>4.92</td>\n",
       "      <td>1891721.0</td>\n",
       "    </tr>\n",
       "    <tr>\n",
       "      <th>2</th>\n",
       "      <td>2018-03-23</td>\n",
       "      <td>4.77</td>\n",
       "      <td>4.97</td>\n",
       "      <td>4.660</td>\n",
       "      <td>4.83</td>\n",
       "      <td>1296522.0</td>\n",
       "      <td>0.0</td>\n",
       "      <td>1.0</td>\n",
       "      <td>4.77</td>\n",
       "      <td>4.97</td>\n",
       "      <td>4.660</td>\n",
       "      <td>4.83</td>\n",
       "      <td>1296522.0</td>\n",
       "    </tr>\n",
       "    <tr>\n",
       "      <th>3</th>\n",
       "      <td>2018-03-22</td>\n",
       "      <td>4.69</td>\n",
       "      <td>4.90</td>\n",
       "      <td>4.511</td>\n",
       "      <td>4.73</td>\n",
       "      <td>1949048.0</td>\n",
       "      <td>0.0</td>\n",
       "      <td>1.0</td>\n",
       "      <td>4.69</td>\n",
       "      <td>4.90</td>\n",
       "      <td>4.511</td>\n",
       "      <td>4.73</td>\n",
       "      <td>1949048.0</td>\n",
       "    </tr>\n",
       "    <tr>\n",
       "      <th>4</th>\n",
       "      <td>2018-03-21</td>\n",
       "      <td>4.80</td>\n",
       "      <td>4.90</td>\n",
       "      <td>4.520</td>\n",
       "      <td>4.71</td>\n",
       "      <td>2366592.0</td>\n",
       "      <td>0.0</td>\n",
       "      <td>1.0</td>\n",
       "      <td>4.80</td>\n",
       "      <td>4.90</td>\n",
       "      <td>4.520</td>\n",
       "      <td>4.71</td>\n",
       "      <td>2366592.0</td>\n",
       "    </tr>\n",
       "  </tbody>\n",
       "</table>\n",
       "</div>"
      ],
      "text/plain": [
       "         Date  Open  High    Low  Close     Volume  Ex-Dividend  Split Ratio  \\\n",
       "0  2018-03-27  4.97  5.58  4.950   5.08  4005636.0          0.0          1.0   \n",
       "1  2018-03-26  4.95  4.97  4.620   4.92  1891721.0          0.0          1.0   \n",
       "2  2018-03-23  4.77  4.97  4.660   4.83  1296522.0          0.0          1.0   \n",
       "3  2018-03-22  4.69  4.90  4.511   4.73  1949048.0          0.0          1.0   \n",
       "4  2018-03-21  4.80  4.90  4.520   4.71  2366592.0          0.0          1.0   \n",
       "\n",
       "   Adj. Open  Adj. High  Adj. Low  Adj. Close  Adj. Volume  \n",
       "0       4.97       5.58     4.950        5.08    4005636.0  \n",
       "1       4.95       4.97     4.620        4.92    1891721.0  \n",
       "2       4.77       4.97     4.660        4.83    1296522.0  \n",
       "3       4.69       4.90     4.511        4.73    1949048.0  \n",
       "4       4.80       4.90     4.520        4.71    2366592.0  "
      ]
     },
     "execution_count": 109,
     "metadata": {},
     "output_type": "execute_result"
    }
   ],
   "source": [
    "df = data.get_data(\"ENPH\")\n",
    "df.head()"
   ]
  },
  {
   "cell_type": "markdown",
   "metadata": {},
   "source": [
    "The Date column is currently a string data-type, so we need to tansform it into a datetime using the .astype() function."
   ]
  },
  {
   "cell_type": "code",
   "execution_count": 110,
   "metadata": {},
   "outputs": [],
   "source": [
    "df['Date'] = df['Date'].astype('datetime64[ns]')"
   ]
  },
  {
   "cell_type": "code",
   "execution_count": 111,
   "metadata": {},
   "outputs": [
    {
     "data": {
      "image/png": "[encoded data removed]",
      "text/plain": [
       "<Figure size 432x288 with 1 Axes>"
      ]
     },
     "metadata": {},
     "output_type": "display_data"
    }
   ],
   "source": [
    "h=df.plot('Date', 'Close')"
   ]
  },
  {
   "cell_type": "markdown",
   "metadata": {},
   "source": [
    "The closing data is nice, but seems to be quite volatile:"
   ]
  },
  {
   "cell_type": "code",
   "execution_count": 112,
   "metadata": {},
   "outputs": [
    {
     "data": {
      "text/plain": [
       "count    1506.000000\n",
       "mean        5.489502\n",
       "std         3.937394\n",
       "min         0.699000\n",
       "25%         1.960000\n",
       "50%         4.900000\n",
       "75%         7.990000\n",
       "max        17.390000\n",
       "Name: Close, dtype: float64"
      ]
     },
     "execution_count": 112,
     "metadata": {},
     "output_type": "execute_result"
    }
   ],
   "source": [
    "df['Close'].describe()"
   ]
  },
  {
   "cell_type": "markdown",
   "metadata": {},
   "source": [
    "The Std Seems a bit high for me, so I'll truncate my dataset to only grab the 600 most recent prices."
   ]
  },
  {
   "cell_type": "code",
   "execution_count": 113,
   "metadata": {},
   "outputs": [
    {
     "data": {
      "text/html": [
       "<div>\n",
       "<style scoped>\n",
       "    .dataframe tbody tr th:only-of-type {\n",
       "        vertical-align: middle;\n",
       "    }\n",
       "\n",
       "    .dataframe tbody tr th {\n",
       "        vertical-align: top;\n",
       "    }\n",
       "\n",
       "    .dataframe thead th {\n",
       "        text-align: right;\n",
       "    }\n",
       "</style>\n",
       "<table border=\"1\" class=\"dataframe\">\n",
       "  <thead>\n",
       "    <tr style=\"text-align: right;\">\n",
       "      <th></th>\n",
       "      <th>Date</th>\n",
       "      <th>Open</th>\n",
       "      <th>High</th>\n",
       "      <th>Low</th>\n",
       "      <th>Close</th>\n",
       "      <th>Volume</th>\n",
       "      <th>Ex-Dividend</th>\n",
       "      <th>Split Ratio</th>\n",
       "      <th>Adj. Open</th>\n",
       "      <th>Adj. High</th>\n",
       "      <th>Adj. Low</th>\n",
       "      <th>Adj. Close</th>\n",
       "      <th>Adj. Volume</th>\n",
       "    </tr>\n",
       "  </thead>\n",
       "  <tbody>\n",
       "    <tr>\n",
       "      <th>0</th>\n",
       "      <td>2018-03-27</td>\n",
       "      <td>4.97</td>\n",
       "      <td>5.58</td>\n",
       "      <td>4.950</td>\n",
       "      <td>5.08</td>\n",
       "      <td>4005636.0</td>\n",
       "      <td>0.0</td>\n",
       "      <td>1.0</td>\n",
       "      <td>4.97</td>\n",
       "      <td>5.58</td>\n",
       "      <td>4.950</td>\n",
       "      <td>5.08</td>\n",
       "      <td>4005636.0</td>\n",
       "    </tr>\n",
       "    <tr>\n",
       "      <th>1</th>\n",
       "      <td>2018-03-26</td>\n",
       "      <td>4.95</td>\n",
       "      <td>4.97</td>\n",
       "      <td>4.620</td>\n",
       "      <td>4.92</td>\n",
       "      <td>1891721.0</td>\n",
       "      <td>0.0</td>\n",
       "      <td>1.0</td>\n",
       "      <td>4.95</td>\n",
       "      <td>4.97</td>\n",
       "      <td>4.620</td>\n",
       "      <td>4.92</td>\n",
       "      <td>1891721.0</td>\n",
       "    </tr>\n",
       "    <tr>\n",
       "      <th>2</th>\n",
       "      <td>2018-03-23</td>\n",
       "      <td>4.77</td>\n",
       "      <td>4.97</td>\n",
       "      <td>4.660</td>\n",
       "      <td>4.83</td>\n",
       "      <td>1296522.0</td>\n",
       "      <td>0.0</td>\n",
       "      <td>1.0</td>\n",
       "      <td>4.77</td>\n",
       "      <td>4.97</td>\n",
       "      <td>4.660</td>\n",
       "      <td>4.83</td>\n",
       "      <td>1296522.0</td>\n",
       "    </tr>\n",
       "    <tr>\n",
       "      <th>3</th>\n",
       "      <td>2018-03-22</td>\n",
       "      <td>4.69</td>\n",
       "      <td>4.90</td>\n",
       "      <td>4.511</td>\n",
       "      <td>4.73</td>\n",
       "      <td>1949048.0</td>\n",
       "      <td>0.0</td>\n",
       "      <td>1.0</td>\n",
       "      <td>4.69</td>\n",
       "      <td>4.90</td>\n",
       "      <td>4.511</td>\n",
       "      <td>4.73</td>\n",
       "      <td>1949048.0</td>\n",
       "    </tr>\n",
       "    <tr>\n",
       "      <th>4</th>\n",
       "      <td>2018-03-21</td>\n",
       "      <td>4.80</td>\n",
       "      <td>4.90</td>\n",
       "      <td>4.520</td>\n",
       "      <td>4.71</td>\n",
       "      <td>2366592.0</td>\n",
       "      <td>0.0</td>\n",
       "      <td>1.0</td>\n",
       "      <td>4.80</td>\n",
       "      <td>4.90</td>\n",
       "      <td>4.520</td>\n",
       "      <td>4.71</td>\n",
       "      <td>2366592.0</td>\n",
       "    </tr>\n",
       "  </tbody>\n",
       "</table>\n",
       "</div>"
      ],
      "text/plain": [
       "        Date  Open  High    Low  Close     Volume  Ex-Dividend  Split Ratio  \\\n",
       "0 2018-03-27  4.97  5.58  4.950   5.08  4005636.0          0.0          1.0   \n",
       "1 2018-03-26  4.95  4.97  4.620   4.92  1891721.0          0.0          1.0   \n",
       "2 2018-03-23  4.77  4.97  4.660   4.83  1296522.0          0.0          1.0   \n",
       "3 2018-03-22  4.69  4.90  4.511   4.73  1949048.0          0.0          1.0   \n",
       "4 2018-03-21  4.80  4.90  4.520   4.71  2366592.0          0.0          1.0   \n",
       "\n",
       "   Adj. Open  Adj. High  Adj. Low  Adj. Close  Adj. Volume  \n",
       "0       4.97       5.58     4.950        5.08    4005636.0  \n",
       "1       4.95       4.97     4.620        4.92    1891721.0  \n",
       "2       4.77       4.97     4.660        4.83    1296522.0  \n",
       "3       4.69       4.90     4.511        4.73    1949048.0  \n",
       "4       4.80       4.90     4.520        4.71    2366592.0  "
      ]
     },
     "execution_count": 113,
     "metadata": {},
     "output_type": "execute_result"
    }
   ],
   "source": [
    "train_data = df.iloc[:600]\n",
    "train_data.head()"
   ]
  },
  {
   "cell_type": "code",
   "execution_count": 114,
   "metadata": {},
   "outputs": [
    {
     "data": {
      "text/plain": [
       "<matplotlib.axes._subplots.AxesSubplot at 0x7f6717d99cf8>"
      ]
     },
     "execution_count": 114,
     "metadata": {},
     "output_type": "execute_result"
    },
    {
     "data": {
      "image/png": "[encoded data removed]",
      "text/plain": [
       "<Figure size 432x288 with 1 Axes>"
      ]
     },
     "metadata": {},
     "output_type": "display_data"
    }
   ],
   "source": [
    "train_data.plot('Date','Close')"
   ]
  },
  {
   "cell_type": "code",
   "execution_count": 115,
   "metadata": {},
   "outputs": [
    {
     "data": {
      "text/plain": [
       "count    600.000000\n",
       "mean       1.821183\n",
       "std        0.795650\n",
       "min        0.699000\n",
       "25%        1.200000\n",
       "50%        1.790000\n",
       "75%        2.282500\n",
       "max        5.080000\n",
       "Name: Close, dtype: float64"
      ]
     },
     "execution_count": 115,
     "metadata": {},
     "output_type": "execute_result"
    }
   ],
   "source": [
    "train_data['Close'].describe()"
   ]
  },
  {
   "cell_type": "markdown",
   "metadata": {},
   "source": [
    "That is a _much_ tighter standard deviation, so we'll go with this for our model."
   ]
  },
  {
   "cell_type": "markdown",
   "metadata": {},
   "source": [
    "Below we begin setting up the model:"
   ]
  },
  {
   "cell_type": "code",
   "execution_count": 116,
   "metadata": {},
   "outputs": [],
   "source": [
    "trading_days = 30 # number of trading days to predict with\n",
    "starting_value=train_data['Close'][599] # first value in the array we will fill"
   ]
  },
  {
   "cell_type": "code",
   "execution_count": 117,
   "metadata": {},
   "outputs": [],
   "source": [
    "close_stats = train_data['Close'].describe()#handle for the statistics of the closing data\n",
    "\n",
    "mu = close_stats['mean'] # average for the sample we are using\n",
    "vol = close_stats['std']*math.sqrt(trading_days) # volatility of the stock over the period"
   ]
  },
  {
   "cell_type": "code",
   "execution_count": 119,
   "metadata": {},
   "outputs": [
    {
     "data": {
      "image/png": "[encoded data removed]",
      "text/plain": [
       "<Figure size 432x288 with 1 Axes>"
      ]
     },
     "metadata": {},
     "output_type": "display_data"
    },
    {
     "name": "stdout",
     "output_type": "stream",
     "text": [
      "-7.339535760851029\n"
     ]
    }
   ],
   "source": [
    "daily_closes = np.random.normal((mu/trading_days), vol/math.sqrt(trading_days),trading_days)+1\n",
    "# daily_closes is an array of values taken from a normal distribution based around the mean of the\n",
    "# train_data, and a standard deviation based on the volatility\n",
    "\n",
    "# the plus one is so that we can multiply the previous values in the following section by the next closing scaler\n",
    "\n",
    "price_list=[starting_value]\n",
    "\n",
    "for scalar in daily_closes:\n",
    "    price_list.append(price_list[-1]*scalar)\n",
    "#in english, each value in the price list is the previous value scaled by the value selected in the daily_closes normal distribution\n",
    "\n",
    "\n",
    "plt.plot(price_list)\n",
    "plt.show()\n",
    "print(price_list[-1])"
   ]
  },
  {
   "cell_type": "markdown",
   "metadata": {},
   "source": [
    "The above is the result for a _single_ trial over the course of our trading_days.\n",
    "\n",
    "For ease of extending this, let's abstract that code to a new function:"
   ]
  },
  {
   "cell_type": "code",
   "execution_count": 120,
   "metadata": {},
   "outputs": [],
   "source": [
    "def single_trial():\n",
    "    daily_closes = np.random.normal((mu/trading_days), vol/math.sqrt(trading_days),trading_days)+1\n",
    "    price_list=[starting_value]\n",
    "\n",
    "    for scalar in daily_closes:\n",
    "        price_list.append(price_list[-1]*scalar)\n",
    "\n",
    "    return price_list"
   ]
  },
  {
   "cell_type": "markdown",
   "metadata": {},
   "source": [
    "And then run the single trial a few thousand times"
   ]
  },
  {
   "cell_type": "code",
   "execution_count": 121,
   "metadata": {},
   "outputs": [
    {
     "data": {
      "image/png": "[encoded data removed]",
      "text/plain": [
       "<Figure size 432x288 with 1 Axes>"
      ]
     },
     "metadata": {},
     "output_type": "display_data"
    }
   ],
   "source": [
    "results = []\n",
    "ax=plt.plot()\n",
    "\n",
    "for i in range(10000): #running this 10,000 times... for science!(and statistical relevance)\n",
    "    \n",
    "    trial = single_trial()\n",
    "    plt.plot(trial)\n",
    "    results.append(trial[-1])\n",
    "    \n",
    "# plt.ylim(-800,800)\n",
    "plt.show()"
   ]
  },
  {
   "cell_type": "markdown",
   "metadata": {},
   "source": [
    "yay colors! so what we're looking at is the process of each trial evolving over time, and we eventually get a few trials that are WAY higher and a few that are WAY lower, but most of the trials end somewhere in between. In fact, these results have a normal distribution!"
   ]
  },
  {
   "cell_type": "code",
   "execution_count": 122,
   "metadata": {},
   "outputs": [
    {
     "data": {
      "image/png": "[encoded data removed]",
      "text/plain": [
       "<Figure size 432x288 with 1 Axes>"
      ]
     },
     "metadata": {},
     "output_type": "display_data"
    }
   ],
   "source": [
    "plt.hist(results, range=(-0.5,0.5), bins=50)\n",
    "plt.show()"
   ]
  },
  {
   "cell_type": "markdown",
   "metadata": {},
   "source": [
    "And getting into some descriptive analysis:"
   ]
  },
  {
   "cell_type": "code",
   "execution_count": 123,
   "metadata": {},
   "outputs": [
    {
     "name": "stdout",
     "output_type": "stream",
     "text": [
      "-20.025183417009323\n"
     ]
    }
   ],
   "source": [
    "print(np.mean(results))"
   ]
  },
  {
   "cell_type": "code",
   "execution_count": 124,
   "metadata": {},
   "outputs": [
    {
     "data": {
      "text/plain": [
       "-5.548164294190449"
      ]
     },
     "execution_count": 124,
     "metadata": {},
     "output_type": "execute_result"
    }
   ],
   "source": [
    "np.percentile(results,5)"
   ]
  },
  {
   "cell_type": "code",
   "execution_count": 125,
   "metadata": {},
   "outputs": [
    {
     "data": {
      "text/plain": [
       "6.994463377898288"
      ]
     },
     "execution_count": 125,
     "metadata": {},
     "output_type": "execute_result"
    }
   ],
   "source": [
    "np.percentile(results,95)"
   ]
  },
  {
   "cell_type": "code",
   "execution_count": 126,
   "metadata": {},
   "outputs": [
    {
     "data": {
      "text/plain": [
       "-1.1461403561223869e-09"
      ]
     },
     "execution_count": 126,
     "metadata": {},
     "output_type": "execute_result"
    }
   ],
   "source": [
    "np.percentile(results,50)"
   ]
  },
  {
   "cell_type": "code",
   "execution_count": null,
   "metadata": {},
   "outputs": [],
   "source": []
  }
 ],
 "metadata": {
  "kernelspec": {
   "display_name": "Python 3",
   "language": "python",
   "name": "python3"
  },
  "language_info": {
   "codemirror_mode": {
    "name": "ipython",
    "version": 3
   },
   "file_extension": ".py",
   "mimetype": "text/x-python",
   "name": "python",
   "nbconvert_exporter": "python",
   "pygments_lexer": "ipython3",
   "version": "3.6.7"
  }
 },
 "nbformat": 4,
 "nbformat_minor": 2
}
